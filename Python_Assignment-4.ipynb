{
 "cells": [
  {
   "cell_type": "markdown",
   "id": "fc0f5dbe",
   "metadata": {},
   "source": [
    "# Python_Assignment-4"
   ]
  },
  {
   "cell_type": "markdown",
   "id": "b30c3b87",
   "metadata": {},
   "source": [
    "1. What exactly is []?"
   ]
  },
  {
   "cell_type": "code",
   "execution_count": null,
   "id": "d7f4abec",
   "metadata": {},
   "outputs": [],
   "source": [
    "empty list or array"
   ]
  },
  {
   "cell_type": "markdown",
   "id": "ac10360c",
   "metadata": {},
   "source": [
    "2. In a list of values stored in a variable called spam, how would you assign the value &#39;hello&#39; as the\n",
    "third value? (Assume [2, 4, 6, 8, 10] are in spam.)"
   ]
  },
  {
   "cell_type": "code",
   "execution_count": 8,
   "id": "a286cd43",
   "metadata": {},
   "outputs": [],
   "source": [
    "spam=[2,4,6,8,10]\n",
    "spam.insert(3,\"hello\")\n",
    "spam"
   ]
  },
  {
   "cell_type": "markdown",
   "id": "f25bdab2",
   "metadata": {},
   "source": [
    "Let's pretend the spam includes the list ['a','b','c','d']\n",
    "for the next three queries.\n"
   ]
  },
  {
   "cell_type": "markdown",
   "id": "dc946364",
   "metadata": {},
   "source": [
    "3. What is the value of spam [int('3'*2)/11)]"
   ]
  },
  {
   "cell_type": "code",
   "execution_count": null,
   "id": "641da89a",
   "metadata": {},
   "outputs": [],
   "source": [
    "SyntaxError"
   ]
  },
  {
   "cell_type": "markdown",
   "id": "f9e58c15",
   "metadata": {},
   "source": [
    "4. What is the value of spam[-1]?"
   ]
  },
  {
   "cell_type": "code",
   "execution_count": null,
   "id": "9c879f5d",
   "metadata": {},
   "outputs": [],
   "source": [
    "'d'"
   ]
  },
  {
   "cell_type": "markdown",
   "id": "46d3de77",
   "metadata": {},
   "source": [
    "5. What is the value of spam[:2]?"
   ]
  },
  {
   "cell_type": "code",
   "execution_count": null,
   "id": "9e09685c",
   "metadata": {},
   "outputs": [],
   "source": [
    "['a', 'b']"
   ]
  },
  {
   "cell_type": "markdown",
   "id": "c28bd002",
   "metadata": {},
   "source": [
    "Let's pretend bacon has the list [3.14,'cat', 11,'cat', True] for the next three questions."
   ]
  },
  {
   "cell_type": "markdown",
   "id": "903c05d6",
   "metadata": {},
   "source": [
    "6. What is the value of bacon.index('cat')?"
   ]
  },
  {
   "cell_type": "code",
   "execution_count": null,
   "id": "ee06176a",
   "metadata": {},
   "outputs": [],
   "source": [
    "1"
   ]
  },
  {
   "cell_type": "markdown",
   "id": "9b5f2872",
   "metadata": {},
   "source": [
    "7. How does bacon.append(99) change the look of the list value in bacon?"
   ]
  },
  {
   "cell_type": "code",
   "execution_count": null,
   "id": "8c9b7ca7",
   "metadata": {},
   "outputs": [],
   "source": [
    "It will append the value 99 to end of the list and it will look like bacon= [3.14,'cat', 11,'cat', True,99]"
   ]
  },
  {
   "cell_type": "markdown",
   "id": "e598dd0e",
   "metadata": {},
   "source": [
    "8. How does bacon.remove('cat') change the look of the list in bacon?"
   ]
  },
  {
   "cell_type": "code",
   "execution_count": null,
   "id": "f57506f8",
   "metadata": {},
   "outputs": [],
   "source": [
    "[3.14, 11, 'cat', True] like the bacon.remove('cat') change look of the bacon list"
   ]
  },
  {
   "cell_type": "markdown",
   "id": "0319735e",
   "metadata": {},
   "source": [
    "9. What are the list concatenation and list replication operators?"
   ]
  },
  {
   "cell_type": "code",
   "execution_count": null,
   "id": "44d380d2",
   "metadata": {},
   "outputs": [],
   "source": [
    "list concatenation:\n",
    "    The list concatenation operator, represented by the + symbol, This used tomerge two or more lists into a single list.\n",
    "    It does not modify the original lists \n",
    "but creates a new list containing elements from all the operands in the order they appear.\n",
    "list replication:\n",
    "    The list replication operator, represented by the * symbol, is used to create a new list by repeating the elements of a \n",
    "list a specified number of times.\n"
   ]
  },
  {
   "cell_type": "markdown",
   "id": "d97362b1",
   "metadata": {},
   "source": [
    "10. What is difference between the list methods append() and insert()?"
   ]
  },
  {
   "cell_type": "code",
   "execution_count": null,
   "id": "4f1dad30",
   "metadata": {},
   "outputs": [],
   "source": [
    "append():\n",
    "    The append() method is used to add an element to the end of a list. It takes a single argument, which is the element you\n",
    "want to add, and it adds that element as the last item in the list.The new element will always be appended to the end.\n",
    "insert():\n",
    "    The insert() method is used to add an element at a specific index in the list. It takes two arguments: the first argument \n",
    "is the index where we want to insert the element, and the second argument is the element we want to add."
   ]
  },
  {
   "cell_type": "markdown",
   "id": "8c197a6a",
   "metadata": {},
   "source": [
    "11. What are the two methods for removing items from a list?"
   ]
  },
  {
   "cell_type": "code",
   "execution_count": null,
   "id": "f1c8a71a",
   "metadata": {},
   "outputs": [],
   "source": [
    "Remove() and pop() are the two methods for removing items from a list"
   ]
  },
  {
   "cell_type": "markdown",
   "id": "73c12232",
   "metadata": {},
   "source": [
    "12. Describe how list values and string values are identical."
   ]
  },
  {
   "cell_type": "code",
   "execution_count": null,
   "id": "47a349c6",
   "metadata": {},
   "outputs": [],
   "source": [
    "Lists and strings are both ways to store multiple elements in order, but lists can hold various types of data, while strings \n",
    "are used specifically for text characters."
   ]
  },
  {
   "cell_type": "markdown",
   "id": "a7ae88ad",
   "metadata": {},
   "source": [
    "13. What&#39;s the difference between tuples and lists?"
   ]
  },
  {
   "cell_type": "code",
   "execution_count": null,
   "id": "288d93d6",
   "metadata": {},
   "outputs": [],
   "source": [
    "lists are mutable and tuples are immutable"
   ]
  },
  {
   "cell_type": "markdown",
   "id": "975f4867",
   "metadata": {},
   "source": [
    "14. How do you type a tuple value that only contains the integer 42?"
   ]
  },
  {
   "cell_type": "code",
   "execution_count": null,
   "id": "67808ab7",
   "metadata": {},
   "outputs": [],
   "source": [
    "t=(4,)"
   ]
  },
  {
   "cell_type": "markdown",
   "id": "6ee204e8",
   "metadata": {},
   "source": [
    "15. How do you get a list value&#39;s tuple form? How do you get a tuple value&#39;s list form?"
   ]
  },
  {
   "cell_type": "code",
   "execution_count": null,
   "id": "fe219c3a",
   "metadata": {},
   "outputs": [],
   "source": [
    "list to tuple:\n",
    "my_list = [1, 2, 3, 4]\n",
    "my_tuple=tuple(my_list)\n",
    "print(my_tuple)\n",
    "\n",
    "tuple to list:\n",
    "my_tuple=(1, 2, 3, 4)\n",
    "my_list=list(my_tuple)\n",
    "print(my_list)"
   ]
  },
  {
   "cell_type": "markdown",
   "id": "55a48e6e",
   "metadata": {},
   "source": [
    "16. Variables that &quot;contain&quot; list values are not necessarily lists themselves. Instead, what do they\n",
    "contain?"
   ]
  },
  {
   "cell_type": "code",
   "execution_count": null,
   "id": "3650e493",
   "metadata": {},
   "outputs": [],
   "source": [
    "When we assign a list to a variable, we are creating a reference to that list in memory. The variable does not hold the \n",
    "list's elements directly but holds the memory address of the list in memory."
   ]
  },
  {
   "cell_type": "markdown",
   "id": "77a3967b",
   "metadata": {},
   "source": [
    "17. How do you distinguish between copy.copy() and copy.deepcopy()?"
   ]
  },
  {
   "cell_type": "code",
   "execution_count": null,
   "id": "1bdde67e",
   "metadata": {},
   "outputs": [],
   "source": [
    "The copy() method creates a shallow copy of the object.\n",
    "A shallow copy creates a new object, but it only copies the top-level elements of the original object. \n",
    "If the original object contains nested objects (e.g., lists within lists), the nested objects are not duplicated; \n",
    "their references are copied instead.The deepcopy() method creates a deep copy of the object.\n",
    "\n",
    "\n",
    "A deep copy creates a completely independent copy of the object and all its nested objects.\n",
    "It duplicates the entire object hierarchy, including any nested objects."
   ]
  },
  {
   "cell_type": "code",
   "execution_count": null,
   "id": "b0de70f3",
   "metadata": {},
   "outputs": [],
   "source": []
  }
 ],
 "metadata": {
  "kernelspec": {
   "display_name": "Python 3 (ipykernel)",
   "language": "python",
   "name": "python3"
  },
  "language_info": {
   "codemirror_mode": {
    "name": "ipython",
    "version": 3
   },
   "file_extension": ".py",
   "mimetype": "text/x-python",
   "name": "python",
   "nbconvert_exporter": "python",
   "pygments_lexer": "ipython3",
   "version": "3.10.9"
  }
 },
 "nbformat": 4,
 "nbformat_minor": 5
}
